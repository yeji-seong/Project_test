{
 "cells": [
  {
   "cell_type": "markdown",
   "metadata": {},
   "source": [
    "# Theory of Stat1 HW5\n",
    "## Problem 5.3 13"
   ]
  },
  {
   "cell_type": "code",
   "execution_count": 3,
   "metadata": {},
   "outputs": [],
   "source": [
    "import numpy as np\n",
    "import numpy.random as random\n",
    "import scipy.stats as stats\n",
    "import math\n",
    "import pandas as pd"
   ]
  },
  {
   "cell_type": "code",
   "execution_count": 17,
   "metadata": {},
   "outputs": [
    {
     "name": "stdout",
     "output_type": "stream",
     "text": [
      "0     9.235387\n",
      "1    15.984583\n",
      "2    34.379007\n",
      "dtype: float64\n"
     ]
    }
   ],
   "source": [
    "# chi-square dist의 분위수 구하기 when n = 5, 10, 25\n",
    "# q = 0.9\n",
    "\n",
    "arr = [0, 0, 0]\n",
    "x1 = pd.Series(arr, dtype = float)\n",
    "\n",
    "i = 0\n",
    "\n",
    "for n in [5,10,25]:\n",
    "    data = random.chisquare(n, 10000000)\n",
    "    df = pd.DataFrame(data)\n",
    "    x1[i] = df.quantile(0.9)\n",
    "    i += 1\n",
    "    \n",
    "print(x1)"
   ]
  },
  {
   "cell_type": "code",
   "execution_count": 5,
   "metadata": {},
   "outputs": [
    {
     "name": "stdout",
     "output_type": "stream",
     "text": [
      "0    15.095534\n",
      "1    23.214034\n",
      "2    44.306651\n",
      "dtype: float64\n"
     ]
    }
   ],
   "source": [
    "# q = 0.99\n",
    "\n",
    "arr = [0, 0, 0]\n",
    "x2 = pd.Series(arr, dtype = float)\n",
    "\n",
    "i = 0\n",
    "\n",
    "for n in [5,10,25]:\n",
    "    data = random.chisquare(n, 10000000)\n",
    "    df = pd.DataFrame(data)\n",
    "    x2[i] = df.quantile(0.99)\n",
    "    i += 1\n",
    "    \n",
    "print(x2)"
   ]
  },
  {
   "cell_type": "code",
   "execution_count": 6,
   "metadata": {},
   "outputs": [
    {
     "name": "stdout",
     "output_type": "stream",
     "text": [
      "0    0.871984\n",
      "1    0.881510\n",
      "2    0.889318\n",
      "dtype: float64\n"
     ]
    }
   ],
   "source": [
    "# approximation of (b) : pi((2x)^(1/2)-(2n)^(1/2))\n",
    "# q = 0.9\n",
    "\n",
    "rv = stats.norm(0,1)\n",
    "\n",
    "cdf11 = pd.Series(arr, dtype = float)\n",
    "\n",
    "i = 0\n",
    "\n",
    "for n in [5,10,25]:\n",
    "    cdf11[i] = rv.cdf(math.sqrt(2*x1[i]) - math.sqrt(2*n))\n",
    "    i += 1\n",
    "\n",
    "print(cdf11)"
   ]
  },
  {
   "cell_type": "code",
   "execution_count": 8,
   "metadata": {},
   "outputs": [
    {
     "name": "stdout",
     "output_type": "stream",
     "text": [
      "0    0.990159\n",
      "1    0.990401\n",
      "2    0.990420\n",
      "dtype: float64\n"
     ]
    }
   ],
   "source": [
    "# q = 0.99\n",
    "\n",
    "rv = stats.norm(0,1)\n",
    "\n",
    "cdf21 = pd.Series(arr, dtype = float)\n",
    "\n",
    "i = 0\n",
    "\n",
    "for n in [5,10,25]:\n",
    "    cdf21[i] = rv.cdf(math.sqrt(2*x2[i]) - math.sqrt(2*n))\n",
    "    i += 1\n",
    "\n",
    "print(cdf21)"
   ]
  },
  {
   "cell_type": "code",
   "execution_count": 9,
   "metadata": {},
   "outputs": [
    {
     "name": "stdout",
     "output_type": "stream",
     "text": [
      "0    0.909845\n",
      "1    0.909702\n",
      "2    0.908020\n",
      "dtype: float64\n"
     ]
    }
   ],
   "source": [
    "# pi((x - n)/(2n)^(1/2))\n",
    "# q = 0.9\n",
    "\n",
    "rv = stats.norm(0,1)\n",
    "\n",
    "cdf12 = pd.Series(arr, dtype = float)\n",
    "\n",
    "i = 0\n",
    "\n",
    "for n in [5,10,25]:\n",
    "    cdf12[i] = rv.cdf((x1[i] - n)/math.sqrt(2*n))\n",
    "    i += 1\n",
    "\n",
    "print(cdf12)"
   ]
  },
  {
   "cell_type": "code",
   "execution_count": 10,
   "metadata": {},
   "outputs": [
    {
     "name": "stdout",
     "output_type": "stream",
     "text": [
      "0    0.999295\n",
      "1    0.998435\n",
      "2    0.996837\n",
      "dtype: float64\n"
     ]
    }
   ],
   "source": [
    "# q = 0.99\n",
    "\n",
    "rv = stats.norm(0,1)\n",
    "\n",
    "cdf22 = pd.Series(arr, dtype = float)\n",
    "\n",
    "i = 0\n",
    "\n",
    "for n in [5,10,25]:\n",
    "    cdf22[i] = rv.cdf((x2[i] - n)/math.sqrt(2*n))\n",
    "    i += 1\n",
    "\n",
    "print(cdf22)"
   ]
  },
  {
   "cell_type": "code",
   "execution_count": 11,
   "metadata": {},
   "outputs": [
    {
     "name": "stdout",
     "output_type": "stream",
     "text": [
      "0    0.900017\n",
      "1    0.900019\n",
      "2    0.900270\n",
      "dtype: float64\n"
     ]
    }
   ],
   "source": [
    "# exact values\n",
    "# q = 0.9\n",
    "\n",
    "cdf13 = pd.Series(arr, dtype = float)\n",
    "\n",
    "i = 0\n",
    "\n",
    "for n in [5,10,25]:\n",
    "    rv = stats.chi2(n)\n",
    "    cdf13[i] = rv.cdf(x1[i])\n",
    "    i += 1\n",
    "\n",
    "print(cdf13)"
   ]
  },
  {
   "cell_type": "code",
   "execution_count": 12,
   "metadata": {},
   "outputs": [
    {
     "name": "stdout",
     "output_type": "stream",
     "text": [
      "0    0.990038\n",
      "1    0.990016\n",
      "2    0.989981\n",
      "dtype: float64\n"
     ]
    }
   ],
   "source": [
    "# q = 0.99\n",
    "\n",
    "cdf23 = pd.Series(arr, dtype = float)\n",
    "\n",
    "i = 0\n",
    "\n",
    "for n in [5,10,25]:\n",
    "    rv = stats.chi2(n)\n",
    "    cdf23[i] = rv.cdf(x2[i])\n",
    "    i += 1\n",
    "\n",
    "print(cdf23)"
   ]
  },
  {
   "cell_type": "code",
   "execution_count": 33,
   "metadata": {},
   "outputs": [
    {
     "name": "stdout",
     "output_type": "stream",
     "text": [
      "                                  0          1          2\n",
      "x                          9.235387  15.984583  34.379007\n",
      "pi((2x)^(1/2)-(2n)^(1/2))  0.871984   0.881510   0.889318\n",
      "pi((x - n)/(2n)^(1/2))     0.909845   0.909702   0.908020\n",
      "exact values               0.900017   0.900019   0.900270\n"
     ]
    }
   ],
   "source": [
    "data1 = [x1, cdf11, cdf12, cdf13]\n",
    "\n",
    "outcome_90 = pd.DataFrame(data1, index = [\"x\", \"pi((2x)^(1/2)-(2n)^(1/2))\",  \"pi((x - n)/(2n)^(1/2))\", \"exact values\"])\n",
    "print(outcome_90)"
   ]
  },
  {
   "cell_type": "code",
   "execution_count": 35,
   "metadata": {},
   "outputs": [
    {
     "name": "stdout",
     "output_type": "stream",
     "text": [
      "                                   0          1          2\n",
      "x                          15.095534  23.214034  44.306651\n",
      "pi((2x)^(1/2)-(2n)^(1/2))   0.990159   0.990401   0.990420\n",
      "pi((x - n)/(2n)^(1/2))      0.999295   0.998435   0.996837\n",
      "exact values                0.990038   0.990016   0.989981\n"
     ]
    }
   ],
   "source": [
    "data2 = [x2, cdf21, cdf22, cdf23]\n",
    "\n",
    "outcome_99 = pd.DataFrame(data2, index = [\"x\", \"pi((2x)^(1/2)-(2n)^(1/2))\",  \"pi((x - n)/(2n)^(1/2))\", \"exact values\"])\n",
    "print(outcome_99)"
   ]
  }
 ],
 "metadata": {
  "kernelspec": {
   "display_name": "Python 3",
   "language": "python",
   "name": "python3"
  },
  "language_info": {
   "codemirror_mode": {
    "name": "ipython",
    "version": 3
   },
   "file_extension": ".py",
   "mimetype": "text/x-python",
   "name": "python",
   "nbconvert_exporter": "python",
   "pygments_lexer": "ipython3",
   "version": "3.7.3"
  }
 },
 "nbformat": 4,
 "nbformat_minor": 2
}
