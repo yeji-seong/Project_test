{
 "cells": [
  {
   "cell_type": "markdown",
   "metadata": {},
   "source": [
    "# Theory of Stat1 HW5\n",
    "## Problem 5.3 13"
   ]
  },
  {
   "cell_type": "code",
   "execution_count": 79,
   "metadata": {},
   "outputs": [],
   "source": [
    "import numpy as np\n",
    "import numpy.random as random\n",
    "import scipy.stats as stats\n",
    "import math"
   ]
  },
  {
   "cell_type": "code",
   "execution_count": 60,
   "metadata": {},
   "outputs": [
    {
     "name": "stdout",
     "output_type": "stream",
     "text": [
      "0     9.240468\n",
      "1    15.987607\n",
      "2    34.382330\n",
      "dtype: float64\n"
     ]
    }
   ],
   "source": [
    "# chi-square dist의 분위수 구하기 when n = 5, 10, 25\n",
    "# q = 0.9\n",
    "\n",
    "arr = [0, 0, 0]\n",
    "x1 = pd.Series(arr, dtype = float)\n",
    "\n",
    "i = 0\n",
    "\n",
    "for n in [5,10,25]:\n",
    "    data = random.chisquare(n, 10000000)\n",
    "    df = pd.DataFrame(data)\n",
    "    x1[i] = df.quantile(0.9)\n",
    "    i += 1\n",
    "    \n",
    "print(x1)"
   ]
  },
  {
   "cell_type": "code",
   "execution_count": 59,
   "metadata": {},
   "outputs": [
    {
     "name": "stdout",
     "output_type": "stream",
     "text": [
      "0    15.082674\n",
      "1    23.187880\n",
      "2    44.321683\n",
      "dtype: float64\n"
     ]
    }
   ],
   "source": [
    "# q = 0.99\n",
    "\n",
    "arr = [0, 0, 0]\n",
    "x2 = pd.Series(arr, dtype = float)\n",
    "\n",
    "i = 0\n",
    "\n",
    "for n in [5,10,25]:\n",
    "    data = random.chisquare(n, 10000000)\n",
    "    df = pd.DataFrame(data)\n",
    "    x2[i] = df.quantile(0.99)\n",
    "    i += 1\n",
    "    \n",
    "print(x2)"
   ]
  },
  {
   "cell_type": "code",
   "execution_count": 73,
   "metadata": {},
   "outputs": [
    {
     "name": "stdout",
     "output_type": "stream",
     "text": [
      "0    0.872161\n",
      "1    0.881502\n",
      "2    0.889029\n",
      "dtype: float64\n"
     ]
    }
   ],
   "source": [
    "# approximation of (b) : pi((2x)^(1/2)-(2n)^(1/2))\n",
    "# q = 0.9\n",
    "\n",
    "rv = stats.norm(0,1)\n",
    "\n",
    "cdf11 = pd.Series(arr, dtype = float)\n",
    "\n",
    "i = 0\n",
    "\n",
    "for n in [5,10,25]:\n",
    "    cdf11[i] = rv.cdf(math.sqrt(2*x1[i]) - math.sqrt(2*n))\n",
    "    i += 1\n",
    "\n",
    "print(cdf11)"
   ]
  },
  {
   "cell_type": "code",
   "execution_count": 74,
   "metadata": {},
   "outputs": [
    {
     "name": "stdout",
     "output_type": "stream",
     "text": [
      "0    0.0\n",
      "1    0.0\n",
      "2    0.0\n",
      "dtype: float64\n"
     ]
    }
   ],
   "source": [
    "# q = 0.99\n",
    "\n",
    "rv = stats.norm(0,1)\n",
    "\n",
    "cdf21 = pd.Series(arr, dtype = float)\n",
    "\n",
    "i = 0\n",
    "\n",
    "for n in [5,10,25]:\n",
    "    cdf2[i] = rv.cdf(math.sqrt(2*x2[i]) - math.sqrt(2*n))\n",
    "    i += 1\n",
    "\n",
    "print(cdf21)"
   ]
  },
  {
   "cell_type": "code",
   "execution_count": 75,
   "metadata": {},
   "outputs": [
    {
     "name": "stdout",
     "output_type": "stream",
     "text": [
      "0    0.910032\n",
      "1    0.909693\n",
      "2    0.907723\n",
      "dtype: float64\n"
     ]
    }
   ],
   "source": [
    "# pi((x - n)/(2n)^(1/2))\n",
    "# q = 0.9\n",
    "\n",
    "rv = stats.norm(0,1)\n",
    "\n",
    "cdf12 = pd.Series(arr, dtype = float)\n",
    "\n",
    "i = 0\n",
    "\n",
    "for n in [5,10,25]:\n",
    "    cdf12[i] = rv.cdf((x1[i] - n)/math.sqrt(2*n))\n",
    "    i += 1\n",
    "\n",
    "print(cdf12)"
   ]
  },
  {
   "cell_type": "code",
   "execution_count": 76,
   "metadata": {},
   "outputs": [
    {
     "name": "stdout",
     "output_type": "stream",
     "text": [
      "0    0.999285\n",
      "1    0.998405\n",
      "2    0.996857\n",
      "dtype: float64\n"
     ]
    }
   ],
   "source": [
    "# q = 0.99\n",
    "\n",
    "rv = stats.norm(0,1)\n",
    "\n",
    "cdf22 = pd.Series(arr, dtype = float)\n",
    "\n",
    "i = 0\n",
    "\n",
    "for n in [5,10,25]:\n",
    "    cdf22[i] = rv.cdf((x2[i] - n)/math.sqrt(2*n))\n",
    "    i += 1\n",
    "\n",
    "print(cdf22)"
   ]
  },
  {
   "cell_type": "code",
   "execution_count": 83,
   "metadata": {},
   "outputs": [
    {
     "name": "stdout",
     "output_type": "stream",
     "text": [
      "0    0.900151\n",
      "1    0.900012\n",
      "2    0.900015\n",
      "dtype: float64\n"
     ]
    }
   ],
   "source": [
    "# exact values\n",
    "\n",
    "cdf13 = pd.Series(arr, dtype = float)\n",
    "\n",
    "i = 0\n",
    "\n",
    "for n in [5,10,25]:\n",
    "    rv = stats.chi2(n)\n",
    "    cdf13[i] = rv.cdf(x1[i])\n",
    "    i += 1\n",
    "\n",
    "print(cdf13)"
   ]
  },
  {
   "cell_type": "code",
   "execution_count": 84,
   "metadata": {},
   "outputs": [
    {
     "name": "stdout",
     "output_type": "stream",
     "text": [
      "0    0.989985\n",
      "1    0.989926\n",
      "2    0.990020\n",
      "dtype: float64\n"
     ]
    }
   ],
   "source": [
    "# exact values\n",
    "\n",
    "cdf23 = pd.Series(arr, dtype = float)\n",
    "\n",
    "i = 0\n",
    "\n",
    "for n in [5,10,25]:\n",
    "    rv = stats.chi2(n)\n",
    "    cdf23[i] = rv.cdf(x2[i])\n",
    "    i += 1\n",
    "\n",
    "print(cdf23)"
   ]
  }
 ],
 "metadata": {
  "kernelspec": {
   "display_name": "Python 3",
   "language": "python",
   "name": "python3"
  },
  "language_info": {
   "codemirror_mode": {
    "name": "ipython",
    "version": 3
   },
   "file_extension": ".py",
   "mimetype": "text/x-python",
   "name": "python",
   "nbconvert_exporter": "python",
   "pygments_lexer": "ipython3",
   "version": "3.7.3"
  }
 },
 "nbformat": 4,
 "nbformat_minor": 2
}
